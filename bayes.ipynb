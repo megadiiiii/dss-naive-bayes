{
 "cells": [
  {
   "metadata": {},
   "cell_type": "markdown",
   "source": "Cell 1: Import thư viện",
   "id": "c7be4eaa33672d62"
  },
  {
   "metadata": {
    "ExecuteTime": {
     "end_time": "2025-10-03T13:23:44.498699Z",
     "start_time": "2025-10-03T13:23:27.719979Z"
    }
   },
   "cell_type": "code",
   "source": [
    "import math\n",
    "from collections import defaultdict\n",
    "from underthesea import word_tokenize  # Tokenizer tiếng Việt chuẩn"
   ],
   "id": "a322408a1d15bb83",
   "outputs": [],
   "execution_count": 1
  },
  {
   "metadata": {},
   "cell_type": "code",
   "outputs": [],
   "execution_count": null,
   "source": "",
   "id": "e9119f97e38f29d1"
  },
  {
   "metadata": {},
   "cell_type": "markdown",
   "source": "Cell 2: Dữ liệu mẫu spam/ham",
   "id": "d620dd3edd889f0c"
  },
  {
   "metadata": {
    "ExecuteTime": {
     "end_time": "2025-10-03T13:23:44.513958Z",
     "start_time": "2025-10-03T13:23:44.508975Z"
    }
   },
   "cell_type": "code",
   "source": [
    "data = [\n",
    "    (\"Bạn đã trúng thưởng 100 triệu! Nhấp vào link nhận ngay!\", \"spam\"),\n",
    "    (\"Giảm giá 50% cho đơn hàng hôm nay\", \"spam\"),\n",
    "    (\"Nhận quà tặng miễn phí, click để nhận\", \"spam\"),\n",
    "    (\"Mời bạn tham dự hội thảo về AI tuần tới\", \"ham\"),\n",
    "    (\"Cuộc họp nhóm lúc 14h chiều nay\", \"ham\"),\n",
    "    (\"Báo cáo tài chính đã được gửi qua email\", \"ham\")\n",
    "]"
   ],
   "id": "5399495584d64632",
   "outputs": [],
   "execution_count": 2
  },
  {
   "metadata": {},
   "cell_type": "markdown",
   "source": "Cell 3: Tiền xử lí text",
   "id": "1a593f6054edeade"
  },
  {
   "metadata": {
    "ExecuteTime": {
     "end_time": "2025-10-03T13:23:44.545393Z",
     "start_time": "2025-10-03T13:23:44.535504Z"
    }
   },
   "cell_type": "code",
   "source": [
    "def preprocess(text):\n",
    "    return \" \".join(text.strip().split())"
   ],
   "id": "f9ee82bfad4f9277",
   "outputs": [],
   "execution_count": 3
  },
  {
   "metadata": {
    "ExecuteTime": {
     "end_time": "2025-10-03T16:46:01.752316Z",
     "start_time": "2025-10-03T16:46:01.736340Z"
    }
   },
   "cell_type": "code",
   "source": [
    "def tokenize(text):\n",
    "    return word_tokenize(preprocess(text.lower()), format=\"text\").split()\n",
    "\n",
    "\n",
    "# Test tokenize\n",
    "sample_text = \"Nhận quà tặng miễn phí, click để nhận\"\n",
    "print(\"Mẫu văn bản: \", sample_text)\n",
    "print(\"Sau khi tiền xử lí:\", tokenize(sample_text))"
   ],
   "id": "fb148ea088413360",
   "outputs": [
    {
     "name": "stdout",
     "output_type": "stream",
     "text": [
      "Mẫu văn bản:  Nhận quà tặng miễn phí, click để nhận\n",
      "Sau khi tiền xử lí: ['nhận', 'quà', 'tặng', 'miễn_phí', ',', 'click', 'để', 'nhận']\n"
     ]
    }
   ],
   "execution_count": 40
  },
  {
   "metadata": {},
   "cell_type": "markdown",
   "source": "Cell 5: Bộ đếm Naive Bayes",
   "id": "319c39c521d59b9d"
  },
  {
   "metadata": {
    "ExecuteTime": {
     "end_time": "2025-10-03T16:46:13.528794Z",
     "start_time": "2025-10-03T16:46:13.482499Z"
    }
   },
   "cell_type": "code",
   "source": [
    "class_counts = defaultdict(int)\n",
    "word_counts = defaultdict(lambda: defaultdict(int))\n",
    "total_words = defaultdict(int)\n",
    "\n",
    "for text, label in data:\n",
    "    class_counts[label] += 1\n",
    "    words = tokenize(text)\n",
    "    for word in words:\n",
    "        word_counts[label][word] += 1\n",
    "        total_words[label] += 1\n",
    "\n",
    "print(\"Số email theo lớp:\", dict(class_counts))\n",
    "print(\"Tổng số từ mỗi lớp:\", dict(total_words))\n",
    "print(\"Một phần word_counts cho spam:\", dict(list(word_counts['spam'].items())[:5]))"
   ],
   "id": "78277f046f0f2da3",
   "outputs": [
    {
     "name": "stdout",
     "output_type": "stream",
     "text": [
      "Số email theo lớp: {'spam': 3, 'ham': 3}\n",
      "Tổng số từ mỗi lớp: {'spam': 28, 'ham': 23}\n",
      "Một phần word_counts cho spam: {'bạn': 1, 'đã': 1, 'trúng': 1, 'thưởng': 1, '100': 1}\n"
     ]
    }
   ],
   "execution_count": 41
  },
  {
   "metadata": {},
   "cell_type": "markdown",
   "source": "Cell 6: Tính xác suất",
   "id": "5a5f4b8b4ccdaa2"
  },
  {
   "metadata": {
    "ExecuteTime": {
     "end_time": "2025-10-03T16:46:25.664110Z",
     "start_time": "2025-10-03T16:46:25.645666Z"
    }
   },
   "cell_type": "code",
   "source": [
    "def predict_proba(email, verbose=True):\n",
    "    words = tokenize(email)\n",
    "    scores = {}\n",
    "    vocab = set()\n",
    "    for label in class_counts:\n",
    "        for word in word_counts[label]:\n",
    "            vocab.add(word)\n",
    "    V = len(vocab)\n",
    "\n",
    "    for label in class_counts:\n",
    "        scores[label] = math.log(class_counts[label] / sum(class_counts.values()))\n",
    "        for word in words:\n",
    "            count_w = word_counts[label].get(word, 0)\n",
    "            scores[label] += math.log((count_w + 1) / (total_words[label] + V))\n",
    "\n",
    "    # Chuyển log-probability -> xác suất chuẩn hóa 0-1\n",
    "    max_log = max(scores.values())\n",
    "    exp_scores = {label: math.exp(scores[label] - max_log) for label in scores}\n",
    "    sum_exp = sum(exp_scores.values())\n",
    "    probs = {label: exp_scores[label]/sum_exp for label in exp_scores}\n",
    "\n",
    "    if verbose:\n",
    "        for label, p in probs.items():\n",
    "            print(f\"Xác suất {label}: {p:.4f}\")\n",
    "\n",
    "    # Lớp dự đoán\n",
    "    pred_label = max(probs, key=probs.get)\n",
    "    return pred_label, probs"
   ],
   "id": "3b56238e08292651",
   "outputs": [],
   "execution_count": 42
  },
  {
   "metadata": {
    "ExecuteTime": {
     "end_time": "2025-10-03T16:46:46.048693Z",
     "start_time": "2025-10-03T16:46:46.031412Z"
    }
   },
   "cell_type": "code",
   "source": [
    "test_emails = [\n",
    "    \"Nhận quà miễn phí hôm nay\",\n",
    "]\n",
    "\n",
    "for e in test_emails:\n",
    "    print(f\"\\nEmail: '{e}'\")\n",
    "    pred_label, probs = predict_proba(e, verbose=True)\n",
    "    print(f\"Lớp dự đoán: {pred_label}\")"
   ],
   "id": "62be48a2407f3ba4",
   "outputs": [
    {
     "name": "stdout",
     "output_type": "stream",
     "text": [
      "\n",
      "Email: 'Nhận quà miễn phí hôm nay'\n",
      "Xác suất spam: 0.9603\n",
      "Xác suất ham: 0.0397\n",
      "Lớp dự đoán: spam\n"
     ]
    }
   ],
   "execution_count": 43
  }
 ],
 "metadata": {
  "kernelspec": {
   "display_name": "Python 3",
   "language": "python",
   "name": "python3"
  },
  "language_info": {
   "codemirror_mode": {
    "name": "ipython",
    "version": 2
   },
   "file_extension": ".py",
   "mimetype": "text/x-python",
   "name": "python",
   "nbconvert_exporter": "python",
   "pygments_lexer": "ipython2",
   "version": "2.7.6"
  }
 },
 "nbformat": 4,
 "nbformat_minor": 5
}
