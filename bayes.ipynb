{
 "cells": [
  {
   "cell_type": "markdown",
   "id": "c7be4eaa33672d62",
   "metadata": {},
   "source": [
    "#1: Import thư viện"
   ]
  },
  {
   "cell_type": "code",
   "id": "a322408a1d15bb83",
   "metadata": {
    "ExecuteTime": {
     "end_time": "2025-10-30T13:17:54.973208Z",
     "start_time": "2025-10-30T13:17:54.963038Z"
    }
   },
   "source": [
    "import math\n",
    "from collections import defaultdict\n",
    "from underthesea import word_tokenize  # Tokenizer tiếng Việt chuẩn"
   ],
   "outputs": [],
   "execution_count": 8
  },
  {
   "cell_type": "markdown",
   "id": "d620dd3edd889f0c",
   "metadata": {},
   "source": [
    "#2: Dữ liệu mẫu spam/ham"
   ]
  },
  {
   "cell_type": "code",
   "id": "5399495584d64632",
   "metadata": {
    "ExecuteTime": {
     "end_time": "2025-10-30T13:17:56.665873Z",
     "start_time": "2025-10-30T13:17:56.653731Z"
    }
   },
   "source": [
    "data = [\n",
    "    (\"Bạn đã trúng thưởng 100 triệu! Nhấp vào link nhận ngay!\", \"spam\"),\n",
    "    (\"Giảm giá 50% cho đơn hàng hôm nay\", \"spam\"),\n",
    "    (\"Nhận quà tặng miễn phí, click để nhận\", \"spam\"),\n",
    "    (\"Mời bạn tham dự hội thảo về AI tuần tới\", \"ham\"),\n",
    "    (\"Cuộc họp nhóm lúc 14h chiều nay\", \"ham\"),\n",
    "    (\"Báo cáo tài chính đã được gửi qua email\", \"ham\")\n",
    "]"
   ],
   "outputs": [],
   "execution_count": 9
  },
  {
   "cell_type": "markdown",
   "id": "1a593f6054edeade",
   "metadata": {},
   "source": [
    "#3: Tiền xử lí text"
   ]
  },
  {
   "cell_type": "code",
   "id": "f9ee82bfad4f9277",
   "metadata": {
    "ExecuteTime": {
     "end_time": "2025-10-30T13:17:58.843090Z",
     "start_time": "2025-10-30T13:17:58.820061Z"
    }
   },
   "source": [
    "def preprocess(text):\n",
    "    return \" \".join(text.strip().split())\n",
    "\n",
    "def tokenize(text):\n",
    "    return word_tokenize(preprocess(text.lower()), format=\"text\").split()\n",
    "\n",
    "\n",
    "# Test tokenize\n",
    "sample_text = \"Nhận quà tặng miễn phí, click để nhận\"\n",
    "print(\"Mẫu văn bản: \", sample_text)\n",
    "print(\"Sau khi tiền xử lí:\", tokenize(sample_text))"
   ],
   "outputs": [
    {
     "name": "stdout",
     "output_type": "stream",
     "text": [
      "Mẫu văn bản:  Nhận quà tặng miễn phí, click để nhận\n",
      "Sau khi tiền xử lí: ['nhận', 'quà', 'tặng', 'miễn_phí', ',', 'click', 'để', 'nhận']\n"
     ]
    }
   ],
   "execution_count": 10
  },
  {
   "cell_type": "markdown",
   "id": "319c39c521d59b9d",
   "metadata": {},
   "source": [
    "#4: Bộ đếm Naive Bayes"
   ]
  },
  {
   "cell_type": "code",
   "id": "78277f046f0f2da3",
   "metadata": {
    "ExecuteTime": {
     "end_time": "2025-10-30T13:18:03.045119Z",
     "start_time": "2025-10-30T13:18:03.026359Z"
    }
   },
   "source": [
    "class_counts = defaultdict(int)\n",
    "word_counts = defaultdict(lambda: defaultdict(int))\n",
    "total_words = defaultdict(int)\n",
    "\n",
    "for text, label in data:\n",
    "    class_counts[label] += 1\n",
    "    words = tokenize(text)\n",
    "    for word in words:\n",
    "        word_counts[label][word] += 1\n",
    "        total_words[label] += 1\n",
    "\n",
    "print(\"Số email theo lớp:\", dict(class_counts))\n",
    "print(\"Tổng số từ mỗi lớp:\", dict(total_words))\n",
    "print(\"Một phần word_counts cho spam:\", dict(list(word_counts['spam'].items())[:5]))"
   ],
   "outputs": [
    {
     "name": "stdout",
     "output_type": "stream",
     "text": [
      "Số email theo lớp: {'spam': 3, 'ham': 3}\n",
      "Tổng số từ mỗi lớp: {'spam': 28, 'ham': 23}\n",
      "Một phần word_counts cho spam: {'bạn': 1, 'đã': 1, 'trúng': 1, 'thưởng': 1, '100': 1}\n"
     ]
    }
   ],
   "execution_count": 11
  },
  {
   "cell_type": "markdown",
   "id": "5a5f4b8b4ccdaa2",
   "metadata": {},
   "source": [
    "#5: Tính xác suất"
   ]
  },
  {
   "cell_type": "code",
   "id": "3b56238e08292651",
   "metadata": {
    "ExecuteTime": {
     "end_time": "2025-10-30T13:18:10.160255Z",
     "start_time": "2025-10-30T13:18:10.141306Z"
    }
   },
   "source": [
    "def predict_proba(email, verbose=True):\n",
    "    words = tokenize(email)\n",
    "    scores = {}\n",
    "    vocab = set()\n",
    "    for label in class_counts:\n",
    "        for word in word_counts[label]:\n",
    "            vocab.add(word)\n",
    "    V = len(vocab)\n",
    "\n",
    "    for label in class_counts:\n",
    "        scores[label] = math.log(class_counts[label] / sum(class_counts.values()))\n",
    "        for word in words:\n",
    "            count_w = word_counts[label].get(word, 0)\n",
    "            scores[label] += math.log((count_w + 1) / (total_words[label] + V))\n",
    "\n",
    "    # Chuyển log-probability -> xác suất chuẩn hóa 0-1\n",
    "    max_log = max(scores.values())\n",
    "    exp_scores = {label: math.exp(scores[label] - max_log) for label in scores}\n",
    "    sum_exp = sum(exp_scores.values())\n",
    "    probs = {label: exp_scores[label]/sum_exp for label in exp_scores}\n",
    "\n",
    "    if verbose:\n",
    "        for label, p in probs.items():\n",
    "            print(f\"Xác suất {label}: {p:.4f}\")\n",
    "\n",
    "    # Lớp dự đoán\n",
    "    pred_label = max(probs, key=probs.get)\n",
    "    return pred_label, probs"
   ],
   "outputs": [],
   "execution_count": 13
  },
  {
   "cell_type": "markdown",
   "id": "34bbeaa127968586",
   "metadata": {},
   "source": [
    "#6: Test"
   ]
  },
  {
   "cell_type": "code",
   "id": "62be48a2407f3ba4",
   "metadata": {
    "ExecuteTime": {
     "end_time": "2025-10-30T13:18:12.749715Z",
     "start_time": "2025-10-30T13:18:12.734702Z"
    }
   },
   "source": [
    "test_emails = [\n",
    "    \"Nhận quà miễn phí hôm nay\",\n",
    "]\n",
    "\n",
    "for e in test_emails:\n",
    "    print(f\"\\nEmail: '{e}'\")\n",
    "    pred_label, probs = predict_proba(e, verbose=True)\n",
    "    print(f\"Lớp dự đoán: {pred_label}\")"
   ],
   "outputs": [
    {
     "name": "stdout",
     "output_type": "stream",
     "text": [
      "\n",
      "Email: 'Nhận quà miễn phí hôm nay'\n",
      "Xác suất spam: 0.9603\n",
      "Xác suất ham: 0.0397\n",
      "Lớp dự đoán: spam\n"
     ]
    }
   ],
   "execution_count": 14
  },
  {
   "metadata": {},
   "cell_type": "markdown",
   "source": "#7: Debug chi tiết từng bước tính toán Naive Bayes",
   "id": "a6d771b362cec0c0"
  },
  {
   "metadata": {
    "ExecuteTime": {
     "end_time": "2025-10-30T13:19:32.644408Z",
     "start_time": "2025-10-30T13:19:32.625501Z"
    }
   },
   "cell_type": "code",
   "source": [
    "#7: Phân tích chi tiết xác suất từng bước cho email test\n",
    "for email in test_emails:\n",
    "    print(\"=\" * 80)\n",
    "    print(f\"Email kiểm tra: '{email}'\")\n",
    "    words = tokenize(email)\n",
    "    print(f\"Tách từ: {words}\\n\")\n",
    "\n",
    "    vocab = set()\n",
    "    for label in class_counts:\n",
    "        vocab |= set(word_counts[label].keys())\n",
    "    V = len(vocab)\n",
    "\n",
    "    print(f\"Tổng số lớp: {len(class_counts)} -> {list(class_counts.keys())}\")\n",
    "    print(f\"Kích thước từ vựng V = {V}\\n\")\n",
    "\n",
    "    # Bảng chi tiết\n",
    "    for label in class_counts:\n",
    "        print(f\"--- Lớp: {label.upper()} ---\")\n",
    "        prior = class_counts[label] / sum(class_counts.values())\n",
    "        print(f\"Prior P({label}) = {prior:.4f}\")\n",
    "\n",
    "        total_w = total_words[label]\n",
    "        print(f\"Tổng số từ trong lớp {label}: {total_w}\\n\")\n",
    "\n",
    "        log_prob = math.log(prior)\n",
    "        for w in words:\n",
    "            count_w = word_counts[label].get(w, 0)\n",
    "            cond_prob = (count_w + 1) / (total_w + V)\n",
    "            log_prob += math.log(cond_prob)\n",
    "            print(f\"P({w}|{label}) = ({count_w} + 1) / ({total_w} + {V}) = {cond_prob:.6f}\")\n",
    "\n",
    "        print(f\"→ Log-prob tổng cho lớp {label}: {log_prob:.6f}\\n\")\n",
    "\n",
    "    # Dự đoán cuối cùng\n",
    "    pred_label, probs = predict_proba(email, verbose=True)\n",
    "    print(f\" Kết luận: '{email}' được dự đoán là {pred_label.upper()}\\n\")\n"
   ],
   "id": "dd14a90547eb910c",
   "outputs": [
    {
     "name": "stdout",
     "output_type": "stream",
     "text": [
      "================================================================================\n",
      "Email kiểm tra: 'Nhận quà miễn phí hôm nay'\n",
      "Tách từ: ['nhận', 'quà', 'miễn_phí', 'hôm_nay']\n",
      "\n",
      "Tổng số lớp: 2 -> ['spam', 'ham']\n",
      "Kích thước từ vựng V = 46\n",
      "\n",
      "--- Lớp: SPAM ---\n",
      "Prior P(spam) = 0.5000\n",
      "Tổng số từ trong lớp spam: 28\n",
      "\n",
      "P(nhận|spam) = (3 + 1) / (28 + 46) = 0.054054\n",
      "P(quà|spam) = (1 + 1) / (28 + 46) = 0.027027\n",
      "P(miễn_phí|spam) = (1 + 1) / (28 + 46) = 0.027027\n",
      "P(hôm_nay|spam) = (1 + 1) / (28 + 46) = 0.027027\n",
      "→ Log-prob tổng cho lớp spam: -14.443672\n",
      "\n",
      "--- Lớp: HAM ---\n",
      "Prior P(ham) = 0.5000\n",
      "Tổng số từ trong lớp ham: 23\n",
      "\n",
      "P(nhận|ham) = (0 + 1) / (23 + 46) = 0.014493\n",
      "P(quà|ham) = (0 + 1) / (23 + 46) = 0.014493\n",
      "P(miễn_phí|ham) = (0 + 1) / (23 + 46) = 0.014493\n",
      "P(hôm_nay|ham) = (0 + 1) / (23 + 46) = 0.014493\n",
      "→ Log-prob tổng cho lớp ham: -17.629573\n",
      "\n",
      "Xác suất spam: 0.9603\n",
      "Xác suất ham: 0.0397\n",
      " Kết luận: 'Nhận quà miễn phí hôm nay' được dự đoán là **SPAM**\n",
      "\n"
     ]
    }
   ],
   "execution_count": 17
  }
 ],
 "metadata": {
  "kernelspec": {
   "display_name": "Python 3 (ipykernel)",
   "language": "python",
   "name": "python3"
  },
  "language_info": {
   "codemirror_mode": {
    "name": "ipython",
    "version": 3
   },
   "file_extension": ".py",
   "mimetype": "text/x-python",
   "name": "python",
   "nbconvert_exporter": "python",
   "pygments_lexer": "ipython3",
   "version": "3.10.11"
  }
 },
 "nbformat": 4,
 "nbformat_minor": 5
}
