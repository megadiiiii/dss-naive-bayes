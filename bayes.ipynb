{
 "cells": [
  {
   "metadata": {},
   "cell_type": "markdown",
   "source": "Cell 1: Import thư viện",
   "id": "c7be4eaa33672d62"
  },
  {
   "metadata": {
    "ExecuteTime": {
     "end_time": "2025-09-26T09:57:09.598739Z",
     "start_time": "2025-09-26T09:57:09.584428Z"
    }
   },
   "cell_type": "code",
   "source": [
    "import math\n",
    "from collections import defaultdict\n",
    "from underthesea import word_tokenize  # Tokenizer tiếng Việt chuẩn\n"
   ],
   "id": "a322408a1d15bb83",
   "outputs": [],
   "execution_count": 38
  },
  {
   "metadata": {},
   "cell_type": "markdown",
   "source": "Cell 2: Dữ liệu mẫu",
   "id": "b8fbd6f545aa5075"
  },
  {
   "metadata": {
    "ExecuteTime": {
     "end_time": "2025-09-26T09:57:09.614734Z",
     "start_time": "2025-09-26T09:57:09.608731Z"
    }
   },
   "cell_type": "code",
   "source": [
    "data = [\n",
    "    (\"Bạn đã trúng thưởng 100 triệu! Nhấp vào link nhận ngay!\", \"spam\"),\n",
    "    (\"Mời bạn tham dự hội thảo về AI tuần tới\", \"ham\"),\n",
    "    (\"Giảm giá 50% cho đơn hàng hôm nay\", \"spam\"),\n",
    "    (\"Cuộc họp nhóm lúc 14h chiều nay\", \"ham\"),\n",
    "    (\"Nhận quà tặng miễn phí, click để nhận\", \"spam\"),\n",
    "    (\"Báo cáo tài chính đã được gửi qua email\", \"ham\")\n",
    "]\n"
   ],
   "id": "8cdaa1354583a3ed",
   "outputs": [],
   "execution_count": 39
  },
  {
   "metadata": {},
   "cell_type": "markdown",
   "source": "Cell 3: Chuẩn hóa dữ liệu (Tokenize)",
   "id": "6de84132ee8112bc"
  },
  {
   "metadata": {
    "ExecuteTime": {
     "end_time": "2025-09-26T09:57:09.630732Z",
     "start_time": "2025-09-26T09:57:09.622733Z"
    }
   },
   "cell_type": "code",
   "source": [
    "def tokenize(text):\n",
    "    return word_tokenize(text.lower(), format=\"text\").split()\n",
    "\n",
    "# Test tokenize\n",
    "sample_text = \"Nhận quà tặng miễn phí, click để nhận\"\n",
    "print(\"Tokenize ví dụ:\", tokenize(sample_text))\n"
   ],
   "id": "fb148ea088413360",
   "outputs": [
    {
     "name": "stdout",
     "output_type": "stream",
     "text": [
      "Tokenize ví dụ: ['nhận', 'quà', 'tặng', 'miễn_phí', ',', 'click', 'để', 'nhận']\n"
     ]
    }
   ],
   "execution_count": 40
  },
  {
   "metadata": {},
   "cell_type": "markdown",
   "source": "Cell 4: Bộ đếm Naive Bayes",
   "id": "319c39c521d59b9d"
  },
  {
   "metadata": {
    "ExecuteTime": {
     "end_time": "2025-09-26T09:57:09.662238Z",
     "start_time": "2025-09-26T09:57:09.645238Z"
    }
   },
   "cell_type": "code",
   "source": [
    "class_counts = defaultdict(int)\n",
    "word_counts = defaultdict(lambda: defaultdict(int))\n",
    "total_words = defaultdict(int)\n",
    "\n",
    "for text, label in data:\n",
    "    class_counts[label] += 1\n",
    "    words = tokenize(text)\n",
    "    for word in words:\n",
    "        word_counts[label][word] += 1\n",
    "        total_words[label] += 1\n",
    "\n",
    "print(\"Số email theo lớp:\", dict(class_counts))\n",
    "print(\"Tổng số từ mỗi lớp:\", dict(total_words))\n",
    "print(\"Một phần word_counts cho spam:\", dict(list(word_counts['spam'].items())[:5]))\n"
   ],
   "id": "78277f046f0f2da3",
   "outputs": [
    {
     "name": "stdout",
     "output_type": "stream",
     "text": [
      "Số email theo lớp: {'spam': 3, 'ham': 3}\n",
      "Tổng số từ mỗi lớp: {'spam': 28, 'ham': 23}\n",
      "Một phần word_counts cho spam: {'bạn': 1, 'đã': 1, 'trúng': 1, 'thưởng': 1, '100': 1}\n"
     ]
    }
   ],
   "execution_count": 41
  },
  {
   "metadata": {},
   "cell_type": "markdown",
   "source": "Cell 5: Tính xác suất",
   "id": "5a5f4b8b4ccdaa2"
  },
  {
   "metadata": {
    "ExecuteTime": {
     "end_time": "2025-09-26T09:57:09.692249Z",
     "start_time": "2025-09-26T09:57:09.676238Z"
    }
   },
   "cell_type": "code",
   "source": [
    "def predict_proba(email, verbose=True):\n",
    "    words = tokenize(email)\n",
    "    scores = {}\n",
    "    vocab = set()\n",
    "\n",
    "    # Tạo tập từ vựng\n",
    "    for label in class_counts:\n",
    "        for word in word_counts[label]:\n",
    "            vocab.add(word)\n",
    "    V = len(vocab)\n",
    "\n",
    "    # Tính log-probability\n",
    "    for label in class_counts:\n",
    "        scores[label] = math.log(class_counts[label] / sum(class_counts.values()))\n",
    "        for word in words:\n",
    "            count_w = word_counts[label].get(word, 0)\n",
    "            scores[label] += math.log((count_w + 1) / (total_words[label] + V))\n",
    "\n",
    "    # Chuyển từ log-probability sang xác suất chuẩn hóa 0-1\n",
    "    max_log = max(scores.values())  # để tránh underflow\n",
    "    exp_scores = {label: math.exp(scores[label] - max_log) for label in scores}\n",
    "    sum_exp = sum(exp_scores.values())\n",
    "    probs = {label: exp_scores[label]/sum_exp for label in exp_scores}\n",
    "\n",
    "    if verbose:\n",
    "        for label, p in probs.items():\n",
    "            print(f\"{label}: {p:.4f}\")\n",
    "\n",
    "    # Lớp dự đoán là lớp có xác suất cao nhất\n",
    "    return max(probs, key=probs.get)\n"
   ],
   "id": "3b56238e08292651",
   "outputs": [],
   "execution_count": 42
  },
  {
   "metadata": {},
   "cell_type": "markdown",
   "source": "Cell 6: Dự đoán kết quả",
   "id": "d3efb1e4a7bf4d1"
  },
  {
   "metadata": {
    "ExecuteTime": {
     "end_time": "2025-09-26T09:57:09.708248Z",
     "start_time": "2025-09-26T09:57:09.700238Z"
    }
   },
   "cell_type": "code",
   "source": [
    "test_emails = [\n",
    "    \"Nhận quà miễn phí hôm nay\",\n",
    "    \"Cuộc họp diễn ra lúc 9h sáng\",\n",
    "    \"Giảm giá 70% cho sản phẩm mới\"\n",
    "]\n",
    "\n",
    "for e in test_emails:\n",
    "    print(f\"\\nEmail: '{e}'\")\n",
    "    # Lấy lớp dự đoán\n",
    "    pred_label = predict_proba(e, verbose=True)\n",
    "    print(f\"Lớp dự đoán: {pred_label}\")\n"
   ],
   "id": "62be48a2407f3ba4",
   "outputs": [
    {
     "name": "stdout",
     "output_type": "stream",
     "text": [
      "\n",
      "Email: 'Nhận quà miễn phí hôm nay'\n",
      "spam: 0.9603\n",
      "ham: 0.0397\n",
      "Lớp dự đoán: spam\n",
      "\n",
      "Email: 'Cuộc họp diễn ra lúc 9h sáng'\n",
      "spam: 0.0345\n",
      "ham: 0.9655\n",
      "Lớp dự đoán: ham\n",
      "\n",
      "Email: 'Giảm giá 70% cho sản phẩm mới'\n",
      "spam: 0.8402\n",
      "ham: 0.1598\n",
      "Lớp dự đoán: spam\n"
     ]
    }
   ],
   "execution_count": 43
  }
 ],
 "metadata": {
  "kernelspec": {
   "display_name": "Python 3",
   "language": "python",
   "name": "python3"
  },
  "language_info": {
   "codemirror_mode": {
    "name": "ipython",
    "version": 2
   },
   "file_extension": ".py",
   "mimetype": "text/x-python",
   "name": "python",
   "nbconvert_exporter": "python",
   "pygments_lexer": "ipython2",
   "version": "2.7.6"
  }
 },
 "nbformat": 4,
 "nbformat_minor": 5
}
