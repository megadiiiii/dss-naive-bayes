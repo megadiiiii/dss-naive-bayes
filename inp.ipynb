{
 "cells": [
  {
   "cell_type": "code",
   "id": "initial_id",
   "metadata": {
    "collapsed": true,
    "ExecuteTime": {
     "end_time": "2025-10-02T07:07:38.694902Z",
     "start_time": "2025-10-02T07:07:38.681820Z"
    }
   },
   "source": [
    "# Cell 1: Import thư viện\n",
    "import pandas as pd\n",
    "import math\n",
    "from collections import defaultdict\n",
    "from underthesea import word_tokenize\n",
    "from sklearn.model_selection import train_test_split\n",
    "from sklearn.feature_extraction.text import TfidfVectorizer\n",
    "from sklearn.naive_bayes import MultinomialNB\n",
    "from sklearn.metrics import classification_report\n"
   ],
   "outputs": [],
   "execution_count": 16
  },
  {
   "metadata": {
    "ExecuteTime": {
     "end_time": "2025-10-02T07:07:40.120811Z",
     "start_time": "2025-10-02T07:07:40.005019Z"
    }
   },
   "cell_type": "code",
   "source": [
    "# Cell 2: Đọc CSV\n",
    "# CSV có cột: id, subject, body, label\n",
    "# Lưu ý: dùng encoding='utf-8' để đọc tiếng Việt\n",
    "df = pd.read_csv(\"Train.csv\", encoding='utf-8')\n",
    "\n",
    "# Gộp subject + body thành text\n",
    "df['text'] = df['subject'].fillna('') + \" \" + df['body'].fillna('')\n",
    "\n",
    "print(\"5 dòng đầu của dataset:\")\n",
    "print(df[['id', 'subject', 'body', 'label']].head())\n"
   ],
   "id": "d6083683309c2180",
   "outputs": [
    {
     "name": "stdout",
     "output_type": "stream",
     "text": [
      "5 dòng đầu của dataset:\n",
      "   id                                      subject  \\\n",
      "0   1      Thông báo vi phạm và yêu cầu thanh toán   \n",
      "1   2                       Thông báo trúng thưởng   \n",
      "2   3                       Đơn của bạn bị từ chối   \n",
      "3   4  Đảm bảo giảm 10–12 cân trong 30 ngày 10.162   \n",
      "4   5                        Cơ hội việc làm ở nhà   \n",
      "\n",
      "                                                body label  \n",
      "0  Xin chào, Bạn đang vi phạm Khoản 1 Điều 466 Bộ...  spam  \n",
      "1  Xin chúc mừng bạn dxdiag@gmail.com đã trúng th...  spam  \n",
      "2  Bạn đang ngập trong nợ nần?\\nĐây là những gì c...  spam  \n",
      "3  Đánh bại nguy cơ ung thư!\\nhttp://www.adclick....  spam  \n",
      "4  Một cơ hội kinh doanh tại nhà đang gõ cửa nhà ...  spam  \n"
     ]
    }
   ],
   "execution_count": 17
  },
  {
   "metadata": {
    "ExecuteTime": {
     "end_time": "2025-10-02T07:07:41.840669Z",
     "start_time": "2025-10-02T07:07:41.831867Z"
    }
   },
   "cell_type": "code",
   "source": [
    "# Cell 3: Tiền xử lý text\n",
    "def preprocess(text):\n",
    "    \"\"\"Xóa xuống dòng, nối thành câu, thêm dấu '.' cuối\"\"\"\n",
    "    lines = text.splitlines()\n",
    "    lines = [line.strip() for line in lines if line.strip()]\n",
    "    return \". \".join(lines) + \".\" if lines else \"\"\n"
   ],
   "id": "4f51514698b43248",
   "outputs": [],
   "execution_count": 18
  },
  {
   "metadata": {
    "ExecuteTime": {
     "end_time": "2025-10-02T07:07:43.423346Z",
     "start_time": "2025-10-02T07:07:43.380386Z"
    }
   },
   "cell_type": "code",
   "source": [
    "# Cell 4: Tokenize tiếng Việt\n",
    "def tokenize(text):\n",
    "    return word_tokenize(preprocess(text.lower()), format='text').split()\n",
    "\n",
    "\n",
    "# Test tokenize\n",
    "sample_text = \"Nhận quà tặng miễn phí, click để nhận\"\n",
    "print(\"Tokenize ví dụ:\", tokenize(sample_text))\n"
   ],
   "id": "3f9b1712673d8b66",
   "outputs": [
    {
     "name": "stdout",
     "output_type": "stream",
     "text": [
      "Tokenize ví dụ: ['nhận', 'quà', 'tặng', 'miễn_phí', ',', 'click', 'để', 'nhận', '.']\n"
     ]
    }
   ],
   "execution_count": 19
  },
  {
   "metadata": {
    "ExecuteTime": {
     "end_time": "2025-10-02T07:07:48.216772Z",
     "start_time": "2025-10-02T07:07:45.684363Z"
    }
   },
   "cell_type": "code",
   "source": [
    "# Cell 5: Tạo bộ đếm Naive Bayes\n",
    "class_counts = defaultdict(int)\n",
    "word_counts = defaultdict(lambda: defaultdict(int))\n",
    "total_words = defaultdict(int)\n",
    "\n",
    "for text, label in zip(df['text'], df['label']):\n",
    "    class_counts[label] += 1\n",
    "    words = tokenize(text)\n",
    "    for word in words:\n",
    "        word_counts[label][word] += 1\n",
    "        total_words[label] += 1\n",
    "\n",
    "print(\"Số email theo lớp:\", dict(class_counts))\n",
    "print(\"Tổng số từ mỗi lớp:\", dict(total_words))\n",
    "print(\"Một phần word_counts cho spam:\", dict(list(word_counts['spam'].items())[:5]))\n"
   ],
   "id": "9411a4b89592b862",
   "outputs": [
    {
     "name": "stdout",
     "output_type": "stream",
     "text": [
      "Số email theo lớp: {'spam': 150, 'ham': 100}\n",
      "Tổng số từ mỗi lớp: {'spam': 14391, 'ham': 12239}\n",
      "Một phần word_counts cho spam: {'thông_báo': 42, 'vi_phạm': 5, 'và': 185, 'yêu_cầu': 13, 'thanh_toán': 20}\n"
     ]
    }
   ],
   "execution_count": 20
  },
  {
   "metadata": {
    "ExecuteTime": {
     "end_time": "2025-10-02T07:07:51.202019Z",
     "start_time": "2025-10-02T07:07:51.187286Z"
    }
   },
   "cell_type": "code",
   "source": [
    "# Cell 6: Hàm dự đoán xác suất\n",
    "def predict_proba(email, verbose=False):\n",
    "    words = tokenize(email)\n",
    "    scores = {}\n",
    "    vocab = set()\n",
    "    for label in class_counts:\n",
    "        for word in word_counts[label]:\n",
    "            vocab.add(word)\n",
    "    V = len(vocab)\n",
    "\n",
    "    for label in class_counts:\n",
    "        # log prior\n",
    "        scores[label] = math.log(class_counts[label] / sum(class_counts.values()))\n",
    "        # log likelihood\n",
    "        for word in words:\n",
    "            count_w = word_counts[label].get(word, 0)\n",
    "            scores[label] += math.log((count_w + 1) / (total_words[label] + V))\n",
    "\n",
    "    # Chuyển log-prob -> xác suất chuẩn hóa 0-1\n",
    "    max_log = max(scores.values())\n",
    "    exp_scores = {label: math.exp(scores[label] - max_log) for label in scores}\n",
    "    sum_exp = sum(exp_scores.values())\n",
    "    probs = {label: exp_scores[label] / sum_exp for label in exp_scores}\n",
    "\n",
    "    if verbose:\n",
    "        for label, p in probs.items():\n",
    "            print(f\"Xác suất {label}: {p:.4f}\")\n",
    "\n",
    "    pred_label = max(probs, key=probs.get)\n",
    "    return pred_label, probs\n"
   ],
   "id": "2ef13bdd566b14d4",
   "outputs": [],
   "execution_count": 21
  },
  {
   "metadata": {
    "ExecuteTime": {
     "end_time": "2025-10-02T06:42:22.061428Z",
     "start_time": "2025-10-02T06:41:58.175046Z"
    }
   },
   "cell_type": "code",
   "source": [
    "# Cell 8: Nhập Subject + Body, in form chuẩn, lưu vào CSV\n",
    "import datetime\n",
    "import os\n",
    "\n",
    "# Nhập email\n",
    "subj_input = input(\"\\nNhập Subject (tiêu đề): \")\n",
    "body_input = input(\"Nhập Body (nội dung): \")\n",
    "\n",
    "email_text = subj_input + \" \" + body_input\n",
    "\n",
    "# Dự đoán\n",
    "pred_label, probs = predict_proba(email_text, verbose=False)\n",
    "pred_prob = probs[pred_label]\n",
    "\n",
    "# In kết quả\n",
    "print(\"\\n--- KẾT QUẢ DỰ ĐOÁN ---\")\n",
    "print(f\"Subject:\\n{subj_input}\")\n",
    "print(f\"Body:\\n{body_input}\\n\")\n",
    "print(f\"Dự đoán: {pred_label}\")\n",
    "print(f\"Tỉ lệ (%): {pred_prob * 100:.2f}%\")\n",
    "\n",
    "# Thêm thời gian\n",
    "time_now = datetime.datetime.now().strftime(\"%Y-%m-%d %H:%M:%S\")\n",
    "\n",
    "# Chuẩn bị DataFrame lưu\n",
    "new_row = pd.DataFrame([{\n",
    "    \"subject\": subj_input,\n",
    "    \"body\": body_input,\n",
    "    \"pred\": pred_label,\n",
    "    \"probability (%)\": pred_prob * 100,\n",
    "    \"time\": time_now\n",
    "}])\n",
    "\n",
    "# Nếu file CSV đã tồn tại, append; nếu chưa, tạo mới\n",
    "csv_file = \"filter_history.csv\"\n",
    "if os.path.exists(csv_file):\n",
    "    new_row.to_csv(csv_file, mode='a', index=False, header=False, encoding='utf-8')\n",
    "else:\n",
    "    new_row.to_csv(csv_file, index=False, encoding='utf-8')\n",
    "\n",
    "print(f\"\\nĐã lưu dự đoán vào {csv_file}\")\n"
   ],
   "id": "dfdc6af38b154cbe",
   "outputs": [
    {
     "name": "stdout",
     "output_type": "stream",
     "text": [
      "\n",
      "--- KẾT QUẢ DỰ ĐOÁN ---\n",
      "Subject:\n",
      "[TB] Chương trình Khách hàng thân thiết VinID xin trân trọng thông báo\n",
      "Body:\n",
      "Kính gửi Quý Khách hàng,​\n",
      "\n",
      "Chương trình Khách hàng thân thiết VinID xin trân trọng thông báo:\n",
      "\n",
      "​\n",
      "\n",
      "Từ tháng 08/2024, VinID chính thức chuyển mình trở thành OneU - Nền tảng khách hàng thân thiết và thanh toán tiện lợi lớn nhất Việt Nam, nhằm đem đến cho Quý Khách hàng nhiều đặc quyền vượt trội hơn.\n",
      "\n",
      "1,332 điểm tích lũy của Quý khách sẽ bị thu hồi vào ngày 30/09/2025 23:59:59 do quá hạn sử dụng.\n",
      "\n",
      "Để tránh lãng phí số điểm, Quý khách vui lòng cập nhật hoặc tải ứng dụng OneU để dùng điểm. Quý khách có thể sử dụng dịch vụ tiêu điểm VinID tại hệ thống Vinpearl, Vinmec, Vinschool, WinMart/WinMart+/WiN và các công ty thành viên. Ngoài ra, điểm VinID có thể được dùng để đổi ưu đãi tại tính năng “Voucher\", đổi thẻ điện thoại, mua vé VinWonders trên ứng dụng OneU.\n",
      "\n",
      "​\n",
      "\n",
      "Để tìm hiểu chi tiết về điều khoản và điều kiện chương trình Khách hàng thân thiết VinID, Quý khách vui lòng xem tại đây\n",
      "\n",
      "​\n",
      "\n",
      "Trường hợp cần tư vấn giải đáp thêm thông tin, Quý khách vui lòng liên hệ tổng đài 19006959.\n",
      "\n",
      "​\n",
      "\n",
      "OneU cũng xin gửi lời cảm ơn chân thành tới Quý khách vì đã sử dụng sản phẩm, dịch vụ của chúng tôi. Với quyết tâm không ngừng hoàn thiện dịch vụ, sản phẩm ngày một tốt hơn, OneU mong sẽ nhận được ý kiến đóng góp của Quý khách.\n",
      "\n",
      "​\n",
      "\n",
      "\n",
      "Trân trọng cảm ơn,\n",
      "OneU\n",
      "\n",
      "Dự đoán: ham\n",
      "Tỉ lệ (%): 100.00%\n",
      "\n",
      "Đã lưu dự đoán vào filter_history.csv\n"
     ]
    }
   ],
   "execution_count": 12
  }
 ],
 "metadata": {
  "kernelspec": {
   "display_name": "Python 3",
   "language": "python",
   "name": "python3"
  },
  "language_info": {
   "codemirror_mode": {
    "name": "ipython",
    "version": 2
   },
   "file_extension": ".py",
   "mimetype": "text/x-python",
   "name": "python",
   "nbconvert_exporter": "python",
   "pygments_lexer": "ipython2",
   "version": "2.7.6"
  }
 },
 "nbformat": 4,
 "nbformat_minor": 5
}
