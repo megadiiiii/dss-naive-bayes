{
 "cells": [
  {
   "metadata": {},
   "cell_type": "markdown",
   "source": "Cell 1: Import thư viện",
   "id": "c7be4eaa33672d62"
  },
  {
   "metadata": {
    "ExecuteTime": {
     "end_time": "2025-10-02T06:47:14.534051Z",
     "start_time": "2025-10-02T06:46:57.638720Z"
    }
   },
   "cell_type": "code",
   "source": [
    "import math\n",
    "from collections import defaultdict\n",
    "from underthesea import word_tokenize  # Tokenizer tiếng Việt chuẩn\n"
   ],
   "id": "a322408a1d15bb83",
   "outputs": [],
   "execution_count": 1
  },
  {
   "metadata": {},
   "cell_type": "markdown",
   "source": "Cell 2: Dữ liệu mẫu spam/ham",
   "id": "d620dd3edd889f0c"
  },
  {
   "metadata": {
    "ExecuteTime": {
     "end_time": "2025-10-02T06:47:14.550948Z",
     "start_time": "2025-10-02T06:47:14.545950Z"
    }
   },
   "cell_type": "code",
   "source": [
    "data = [\n",
    "    (\"Bạn đã trúng thưởng 100 triệu! Nhấp vào link nhận ngay!\", \"spam\"),\n",
    "    (\"Giảm giá 50% cho đơn hàng hôm nay\", \"spam\"),\n",
    "    (\"Nhận quà tặng miễn phí, click để nhận\", \"spam\"),\n",
    "    (\"Mời bạn tham dự hội thảo về AI tuần tới\", \"ham\"),\n",
    "    (\"Cuộc họp nhóm lúc 14h chiều nay\", \"ham\"),\n",
    "    (\"Báo cáo tài chính đã được gửi qua email\", \"ham\")\n",
    "]"
   ],
   "id": "5399495584d64632",
   "outputs": [],
   "execution_count": 2
  },
  {
   "metadata": {},
   "cell_type": "markdown",
   "source": "Cell 3: Tiền xử lí text",
   "id": "1a593f6054edeade"
  },
  {
   "metadata": {
    "ExecuteTime": {
     "end_time": "2025-10-02T06:47:14.566150Z",
     "start_time": "2025-10-02T06:47:14.560854Z"
    }
   },
   "cell_type": "code",
   "source": [
    "def preprocess(text):\n",
    "    lines = text.splitlines()\n",
    "    lines = [line.strip() for line in lines if line.strip()]\n",
    "    return \". \".join(lines) + \".\" if lines else \"\""
   ],
   "id": "f9ee82bfad4f9277",
   "outputs": [],
   "execution_count": 3
  },
  {
   "metadata": {},
   "cell_type": "markdown",
   "source": "Cell 4: Chuẩn hóa dữ liệu (Tokenize)",
   "id": "6de84132ee8112bc"
  },
  {
   "metadata": {
    "ExecuteTime": {
     "end_time": "2025-10-02T06:47:14.874682Z",
     "start_time": "2025-10-02T06:47:14.578847Z"
    }
   },
   "cell_type": "code",
   "source": [
    "def tokenize(text):\n",
    "    return word_tokenize(preprocess(text.lower()), format=\"text\").split()\n",
    "\n",
    "\n",
    "# Test tokenize\n",
    "sample_text = \"Nhận quà tặng miễn phí, click để nhận\"\n",
    "print(\"Tokenize ví dụ:\", tokenize(sample_text))"
   ],
   "id": "fb148ea088413360",
   "outputs": [
    {
     "name": "stdout",
     "output_type": "stream",
     "text": [
      "Tokenize ví dụ: ['nhận', 'quà', 'tặng', 'miễn_phí', ',', 'click', 'để', 'nhận', '.']\n"
     ]
    }
   ],
   "execution_count": 4
  },
  {
   "metadata": {},
   "cell_type": "markdown",
   "source": "Cell 5: Bộ đếm Naive Bayes",
   "id": "319c39c521d59b9d"
  },
  {
   "metadata": {
    "ExecuteTime": {
     "end_time": "2025-10-02T06:47:14.922025Z",
     "start_time": "2025-10-02T06:47:14.892302Z"
    }
   },
   "cell_type": "code",
   "source": [
    "class_counts = defaultdict(int)\n",
    "word_counts = defaultdict(lambda: defaultdict(int))\n",
    "total_words = defaultdict(int)\n",
    "\n",
    "for text, label in data:\n",
    "    class_counts[label] += 1\n",
    "    words = tokenize(text)\n",
    "    for word in words:\n",
    "        word_counts[label][word] += 1\n",
    "        total_words[label] += 1\n",
    "\n",
    "print(\"Số email theo lớp:\", dict(class_counts))\n",
    "print(\"Tổng số từ mỗi lớp:\", dict(total_words))\n",
    "print(\"Một phần word_counts cho spam:\", dict(list(word_counts['spam'].items())[:5]))"
   ],
   "id": "78277f046f0f2da3",
   "outputs": [
    {
     "name": "stdout",
     "output_type": "stream",
     "text": [
      "Số email theo lớp: {'spam': 3, 'ham': 3}\n",
      "Tổng số từ mỗi lớp: {'spam': 31, 'ham': 26}\n",
      "Một phần word_counts cho spam: {'bạn': 1, 'đã': 1, 'trúng': 1, 'thưởng': 1, '100': 1}\n"
     ]
    }
   ],
   "execution_count": 5
  },
  {
   "metadata": {},
   "cell_type": "markdown",
   "source": "Cell 6: Tính xác suất",
   "id": "5a5f4b8b4ccdaa2"
  },
  {
   "metadata": {
    "ExecuteTime": {
     "end_time": "2025-10-02T06:47:14.969035Z",
     "start_time": "2025-10-02T06:47:14.954369Z"
    }
   },
   "cell_type": "code",
   "source": [
    "def predict_proba(email, verbose=True):\n",
    "    words = tokenize(email)\n",
    "    scores = {}\n",
    "    vocab = set()\n",
    "    for label in class_counts:\n",
    "        for word in word_counts[label]:\n",
    "            vocab.add(word)\n",
    "    V = len(vocab)\n",
    "\n",
    "    for label in class_counts:\n",
    "        scores[label] = math.log(class_counts[label] / sum(class_counts.values()))\n",
    "        for word in words:\n",
    "            count_w = word_counts[label].get(word, 0)\n",
    "            scores[label] += math.log((count_w + 1) / (total_words[label] + V))\n",
    "\n",
    "    # Chuyển log-probability -> xác suất chuẩn hóa 0-1\n",
    "    max_log = max(scores.values())\n",
    "    exp_scores = {label: math.exp(scores[label] - max_log) for label in scores}\n",
    "    sum_exp = sum(exp_scores.values())\n",
    "    probs = {label: exp_scores[label]/sum_exp for label in exp_scores}\n",
    "\n",
    "    if verbose:\n",
    "        for label, p in probs.items():\n",
    "            print(f\"Xác suất {label}: {p:.4f}\")\n",
    "\n",
    "    # Lớp dự đoán\n",
    "    pred_label = max(probs, key=probs.get)\n",
    "    return pred_label, probs"
   ],
   "id": "3b56238e08292651",
   "outputs": [],
   "execution_count": 6
  },
  {
   "metadata": {},
   "cell_type": "markdown",
   "source": "Cell 7: Test nhiều email mẫu",
   "id": "d3efb1e4a7bf4d1"
  },
  {
   "metadata": {
    "ExecuteTime": {
     "end_time": "2025-10-02T06:47:14.999181Z",
     "start_time": "2025-10-02T06:47:14.981010Z"
    }
   },
   "cell_type": "code",
   "source": [
    "test_emails = [\n",
    "    \"Nhận quà miễn phí hôm nay\",\n",
    "    \"Cuộc họp diễn ra lúc 9h sáng\",\n",
    "    \"Giảm giá 70% cho sản phẩm mới\"\n",
    "]\n",
    "\n",
    "for e in test_emails:\n",
    "    print(f\"\\nEmail: '{e}'\")\n",
    "    pred_label, probs = predict_proba(e, verbose=True)\n",
    "    print(f\"Lớp dự đoán: {pred_label}\")"
   ],
   "id": "62be48a2407f3ba4",
   "outputs": [
    {
     "name": "stdout",
     "output_type": "stream",
     "text": [
      "\n",
      "Email: 'Nhận quà miễn phí hôm nay'\n",
      "Xác suất spam: 0.9583\n",
      "Xác suất ham: 0.0417\n",
      "Lớp dự đoán: spam\n",
      "\n",
      "Email: 'Cuộc họp diễn ra lúc 9h sáng'\n",
      "Xác suất spam: 0.0333\n",
      "Xác suất ham: 0.9667\n",
      "Lớp dự đoán: ham\n",
      "\n",
      "Email: 'Giảm giá 70% cho sản phẩm mới'\n",
      "Xác suất spam: 0.8342\n",
      "Xác suất ham: 0.1658\n",
      "Lớp dự đoán: spam\n"
     ]
    }
   ],
   "execution_count": 7
  },
  {
   "metadata": {},
   "cell_type": "markdown",
   "source": "Cell 8: Cho phép nhập email tùy ý để test",
   "id": "b22904d3a572662f"
  },
  {
   "metadata": {
    "ExecuteTime": {
     "end_time": "2025-10-02T06:47:18.998988Z",
     "start_time": "2025-10-02T06:47:15.039086Z"
    }
   },
   "cell_type": "code",
   "source": [
    "email_input = input(\"Nhập email để test: \")\n",
    "pred_label, probs = predict_proba(email_input)\n",
    "print(f\"\\nEmail: \\n{email_input}\")\n",
    "print(f\"Lớp dự đoán: {pred_label}\")\n",
    "print(\"Xác suất từng lớp:\")\n",
    "for label, p in probs.items():\n",
    "    print(f\"{label}: {p:.4f}\")"
   ],
   "id": "bbd4f3a71d1ce45d",
   "outputs": [
    {
     "ename": "KeyboardInterrupt",
     "evalue": "Interrupted by user",
     "output_type": "error",
     "traceback": [
      "\u001B[1;31m---------------------------------------------------------------------------\u001B[0m",
      "\u001B[1;31mKeyboardInterrupt\u001B[0m                         Traceback (most recent call last)",
      "Cell \u001B[1;32mIn[8], line 1\u001B[0m\n\u001B[1;32m----> 1\u001B[0m email_input \u001B[38;5;241m=\u001B[39m \u001B[38;5;28;43minput\u001B[39;49m\u001B[43m(\u001B[49m\u001B[38;5;124;43m\"\u001B[39;49m\u001B[38;5;124;43mNhập email để test: \u001B[39;49m\u001B[38;5;124;43m\"\u001B[39;49m\u001B[43m)\u001B[49m\n\u001B[0;32m      2\u001B[0m pred_label, probs \u001B[38;5;241m=\u001B[39m predict_proba(email_input)\n\u001B[0;32m      3\u001B[0m \u001B[38;5;28mprint\u001B[39m(\u001B[38;5;124mf\u001B[39m\u001B[38;5;124m\"\u001B[39m\u001B[38;5;130;01m\\n\u001B[39;00m\u001B[38;5;124mEmail: \u001B[39m\u001B[38;5;130;01m\\n\u001B[39;00m\u001B[38;5;132;01m{\u001B[39;00memail_input\u001B[38;5;132;01m}\u001B[39;00m\u001B[38;5;124m\"\u001B[39m)\n",
      "File \u001B[1;32m~\\PycharmProjects\\PythonProject\\.venv\\lib\\site-packages\\ipykernel\\kernelbase.py:1275\u001B[0m, in \u001B[0;36mKernel.raw_input\u001B[1;34m(self, prompt)\u001B[0m\n\u001B[0;32m   1273\u001B[0m     msg \u001B[38;5;241m=\u001B[39m \u001B[38;5;124m\"\u001B[39m\u001B[38;5;124mraw_input was called, but this frontend does not support input requests.\u001B[39m\u001B[38;5;124m\"\u001B[39m\n\u001B[0;32m   1274\u001B[0m     \u001B[38;5;28;01mraise\u001B[39;00m StdinNotImplementedError(msg)\n\u001B[1;32m-> 1275\u001B[0m \u001B[38;5;28;01mreturn\u001B[39;00m \u001B[38;5;28;43mself\u001B[39;49m\u001B[38;5;241;43m.\u001B[39;49m\u001B[43m_input_request\u001B[49m\u001B[43m(\u001B[49m\n\u001B[0;32m   1276\u001B[0m \u001B[43m    \u001B[49m\u001B[38;5;28;43mstr\u001B[39;49m\u001B[43m(\u001B[49m\u001B[43mprompt\u001B[49m\u001B[43m)\u001B[49m\u001B[43m,\u001B[49m\n\u001B[0;32m   1277\u001B[0m \u001B[43m    \u001B[49m\u001B[38;5;28;43mself\u001B[39;49m\u001B[38;5;241;43m.\u001B[39;49m\u001B[43m_parent_ident\u001B[49m\u001B[43m[\u001B[49m\u001B[38;5;124;43m\"\u001B[39;49m\u001B[38;5;124;43mshell\u001B[39;49m\u001B[38;5;124;43m\"\u001B[39;49m\u001B[43m]\u001B[49m\u001B[43m,\u001B[49m\n\u001B[0;32m   1278\u001B[0m \u001B[43m    \u001B[49m\u001B[38;5;28;43mself\u001B[39;49m\u001B[38;5;241;43m.\u001B[39;49m\u001B[43mget_parent\u001B[49m\u001B[43m(\u001B[49m\u001B[38;5;124;43m\"\u001B[39;49m\u001B[38;5;124;43mshell\u001B[39;49m\u001B[38;5;124;43m\"\u001B[39;49m\u001B[43m)\u001B[49m\u001B[43m,\u001B[49m\n\u001B[0;32m   1279\u001B[0m \u001B[43m    \u001B[49m\u001B[43mpassword\u001B[49m\u001B[38;5;241;43m=\u001B[39;49m\u001B[38;5;28;43;01mFalse\u001B[39;49;00m\u001B[43m,\u001B[49m\n\u001B[0;32m   1280\u001B[0m \u001B[43m\u001B[49m\u001B[43m)\u001B[49m\n",
      "File \u001B[1;32m~\\PycharmProjects\\PythonProject\\.venv\\lib\\site-packages\\ipykernel\\kernelbase.py:1320\u001B[0m, in \u001B[0;36mKernel._input_request\u001B[1;34m(self, prompt, ident, parent, password)\u001B[0m\n\u001B[0;32m   1317\u001B[0m \u001B[38;5;28;01mexcept\u001B[39;00m \u001B[38;5;167;01mKeyboardInterrupt\u001B[39;00m:\n\u001B[0;32m   1318\u001B[0m     \u001B[38;5;66;03m# re-raise KeyboardInterrupt, to truncate traceback\u001B[39;00m\n\u001B[0;32m   1319\u001B[0m     msg \u001B[38;5;241m=\u001B[39m \u001B[38;5;124m\"\u001B[39m\u001B[38;5;124mInterrupted by user\u001B[39m\u001B[38;5;124m\"\u001B[39m\n\u001B[1;32m-> 1320\u001B[0m     \u001B[38;5;28;01mraise\u001B[39;00m \u001B[38;5;167;01mKeyboardInterrupt\u001B[39;00m(msg) \u001B[38;5;28;01mfrom\u001B[39;00m\u001B[38;5;250m \u001B[39m\u001B[38;5;28;01mNone\u001B[39;00m\n\u001B[0;32m   1321\u001B[0m \u001B[38;5;28;01mexcept\u001B[39;00m \u001B[38;5;167;01mException\u001B[39;00m:\n\u001B[0;32m   1322\u001B[0m     \u001B[38;5;28mself\u001B[39m\u001B[38;5;241m.\u001B[39mlog\u001B[38;5;241m.\u001B[39mwarning(\u001B[38;5;124m\"\u001B[39m\u001B[38;5;124mInvalid Message:\u001B[39m\u001B[38;5;124m\"\u001B[39m, exc_info\u001B[38;5;241m=\u001B[39m\u001B[38;5;28;01mTrue\u001B[39;00m)\n",
      "\u001B[1;31mKeyboardInterrupt\u001B[0m: Interrupted by user"
     ]
    }
   ],
   "execution_count": 8
  }
 ],
 "metadata": {
  "kernelspec": {
   "display_name": "Python 3",
   "language": "python",
   "name": "python3"
  },
  "language_info": {
   "codemirror_mode": {
    "name": "ipython",
    "version": 2
   },
   "file_extension": ".py",
   "mimetype": "text/x-python",
   "name": "python",
   "nbconvert_exporter": "python",
   "pygments_lexer": "ipython2",
   "version": "2.7.6"
  }
 },
 "nbformat": 4,
 "nbformat_minor": 5
}
