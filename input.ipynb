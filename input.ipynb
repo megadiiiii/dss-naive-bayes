{
 "cells": [
  {
   "metadata": {},
   "cell_type": "code",
   "source": [
    "import pandas as pd\n",
    "import numpy as np\n",
    "import matplotlib.pyplot as plt\n",
    "import os\n",
    "import datetime\n",
    "from underthesea import word_tokenize\n",
    "from sklearn.model_selection import train_test_split\n",
    "from sklearn.feature_extraction.text import TfidfVectorizer\n",
    "from sklearn.naive_bayes import MultinomialNB\n",
    "from sklearn.metrics import classification_report\n"
   ],
   "id": "b2ff7053bc357ca1",
   "outputs": [],
   "execution_count": null
  },
  {
   "metadata": {},
   "cell_type": "code",
   "source": [
    "df = pd.read_csv(\"Train.csv\", encoding='utf-8')\n",
    "df['text'] = df['subject'].fillna('') + \" \" + df['body'].fillna('')\n",
    "\n",
    "print(\"5 dòng đầu của dataset:\")\n",
    "print(df[['id', 'subject', 'body', 'label']].head())\n"
   ],
   "id": "10c819a5bef189fc",
   "outputs": [],
   "execution_count": null
  },
  {
   "metadata": {},
   "cell_type": "code",
   "source": [
    "def preprocess(text):\n",
    "    lines = text.splitlines()\n",
    "    lines = [line.strip() for line in lines if line.strip()]\n",
    "    return \". \".join(lines) + \".\" if lines else \"\"\n",
    "\n",
    "\n",
    "import string\n",
    "\n",
    "def viet_tokenize(text):\n",
    "    tokens = word_tokenize(text, format='text').split()\n",
    "    # loại bỏ token chỉ toàn dấu câu\n",
    "    tokens = [t for t in tokens if any(c.isalnum() for c in t)]\n",
    "    return tokens\n"
   ],
   "id": "7e82d000c99e186b",
   "outputs": [],
   "execution_count": null
  },
  {
   "metadata": {},
   "cell_type": "code",
   "source": [
    "X_train, X_test, y_train, y_test = train_test_split(\n",
    "    df['text'], df['label'], test_size=0.2, random_state=42\n",
    ")\n"
   ],
   "id": "6f3ef5c92442028c",
   "outputs": [],
   "execution_count": null
  },
  {
   "metadata": {},
   "cell_type": "code",
   "source": [
    "with open(\"vietnamese-stopwords-dash.txt\", \"r\", encoding=\"utf-8\") as f:\n",
    "    viet_stopwords = [line.strip() for line in f if line.strip()]\n",
    "\n",
    "vectorizer = TfidfVectorizer(tokenizer=viet_tokenize, stop_words=viet_stopwords)\n",
    "X_train_vec = vectorizer.fit_transform(X_train)\n",
    "X_test_vec = vectorizer.transform(X_test)\n"
   ],
   "id": "72ba3d0b60d292ff",
   "outputs": [],
   "execution_count": null
  },
  {
   "metadata": {},
   "cell_type": "markdown",
   "source": "",
   "id": "c97b4b15d4f560cf"
  },
  {
   "metadata": {},
   "cell_type": "code",
   "source": [
    "model = MultinomialNB(alpha=0.5)\n",
    "model.fit(X_train_vec, y_train)\n",
    "\n",
    "y_pred = model.predict(X_test_vec)\n",
    "print(classification_report(y_test, y_pred))\n"
   ],
   "id": "76a9b872dc88574",
   "outputs": [],
   "execution_count": null
  },
  {
   "metadata": {},
   "cell_type": "code",
   "source": [
    "from collections import defaultdict\n",
    "\n",
    "\n",
    "# Hàm đếm số lần xuất hiện\n",
    "def count_words(texts, labels, target_label):\n",
    "    counter = defaultdict(int)\n",
    "    for text, label in zip(texts, labels):\n",
    "        if label == target_label:\n",
    "            for w in viet_tokenize(text):\n",
    "                if w not in viet_stopwords:\n",
    "                    counter[w] += 1\n",
    "    return counter\n",
    "\n",
    "\n",
    "ham_words = count_words(X_train, y_train, 'ham')\n",
    "spam_words = count_words(X_train, y_train, 'spam')\n",
    "\n",
    "# Top 10 từ\n",
    "top_k = 20\n",
    "ham_top = sorted(ham_words.items(), key=lambda x: x[1], reverse=True)[:top_k]\n",
    "spam_top = sorted(spam_words.items(), key=lambda x: x[1], reverse=True)[:top_k]\n",
    "\n",
    "# Vẽ bar chart HAM\n",
    "plt.figure(figsize=(10, 5))\n",
    "plt.bar([w for w, _ in ham_top], [c for _, c in ham_top], color='green')\n",
    "plt.xticks(rotation=45)\n",
    "plt.title(\"Top 10 từ xuất hiện nhiều nhất lớp HAM\")\n",
    "plt.ylabel(\"Số lần xuất hiện\")\n",
    "plt.show()\n",
    "\n",
    "# Vẽ bar chart SPAM\n",
    "plt.figure(figsize=(10, 5))\n",
    "plt.bar([w for w, _ in spam_top], [c for _, c in spam_top], color='red')\n",
    "plt.xticks(rotation=45)\n",
    "plt.title(\"Top 10 từ xuất hiện nhiều nhất lớp SPAM\")\n",
    "plt.ylabel(\"Số lần xuất hiện\")\n",
    "plt.show()\n"
   ],
   "id": "7de572a54926e4c0",
   "outputs": [],
   "execution_count": null
  },
  {
   "metadata": {},
   "cell_type": "code",
   "source": [
    "subj_input = input(\"\\nNhập Subject (tiêu đề): \")\n",
    "body_input = input(\"Nhập Body (nội dung): \")\n",
    "email_text = subj_input + \" \" + body_input\n",
    "\n",
    "X_new = vectorizer.transform([email_text])\n",
    "pred_label = model.predict(X_new)[0]\n",
    "pred_prob = np.max(model.predict_proba(X_new))\n",
    "\n",
    "print(\"\\n--- KẾT QUẢ DỰ ĐOÁN ---\")\n",
    "print(f\"Subject:\\n{subj_input}\")\n",
    "print(f\"Body:\\n{body_input}\\n\")\n",
    "print(f\"Dự đoán: {pred_label}\")\n",
    "print(f\"Tỉ lệ (%): {pred_prob * 100:.2f}%\")\n",
    "\n",
    "time_now = datetime.datetime.now().strftime(\"%Y-%m-%d %H:%M:%S\")\n",
    "new_row = pd.DataFrame([{\n",
    "    \"subject\": subj_input,\n",
    "    \"body\": body_input,\n",
    "    \"pred\": pred_label,\n",
    "    \"probability (%)\": pred_prob * 100,\n",
    "    \"time\": time_now\n",
    "}])\n",
    "\n",
    "csv_file = \"filter_history.csv\"\n",
    "if os.path.exists(csv_file):\n",
    "    new_row.to_csv(csv_file, mode='a', index=False, header=False, encoding='utf-8')\n",
    "else:\n",
    "    new_row.to_csv(csv_file, index=False, encoding='utf-8')\n",
    "\n",
    "print(f\"\\nĐã lưu dự đoán vào {csv_file}\")\n",
    "print(\"----------\")\n",
    "print(\"Lưu ý: Kết quả chỉ mang tính tham khảo. Vui lòng không nhập thông tin nhạy cảm, đường link, hay điền vào form trong email.\")\n",
    "\n"
   ],
   "id": "6e1306e29c7cb8ed",
   "outputs": [],
   "execution_count": null
  }
 ],
 "metadata": {
  "kernelspec": {
   "display_name": "Python 3",
   "language": "python",
   "name": "python3"
  },
  "language_info": {
   "codemirror_mode": {
    "name": "ipython",
    "version": 2
   },
   "file_extension": ".py",
   "mimetype": "text/x-python",
   "name": "python",
   "nbconvert_exporter": "python",
   "pygments_lexer": "ipython2",
   "version": "2.7.6"
  }
 },
 "nbformat": 4,
 "nbformat_minor": 5
}
