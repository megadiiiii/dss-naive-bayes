{
 "cells": [
  {
   "cell_type": "markdown",
   "id": "302e8b55f42b9a91",
   "metadata": {},
   "source": [
    "#1: Import thư viện"
   ]
  },
  {
   "cell_type": "code",
   "id": "b2ff7053bc357ca1",
   "metadata": {},
   "source": [
    "import pandas as pd\n",
    "import numpy as np\n",
    "import matplotlib.pyplot as plt\n",
    "import os\n",
    "import datetime\n",
    "from underthesea import word_tokenize\n",
    "from sklearn.model_selection import train_test_split\n",
    "from sklearn.feature_extraction.text import TfidfVectorizer\n",
    "from sklearn.naive_bayes import MultinomialNB\n",
    "from sklearn.metrics import classification_report\n"
   ],
   "outputs": [],
   "execution_count": null
  },
  {
   "cell_type": "markdown",
   "id": "b209d1b05be9de89",
   "metadata": {},
   "source": [
    "#2: Đọc dataset"
   ]
  },
  {
   "cell_type": "code",
   "id": "10c819a5bef189fc",
   "metadata": {},
   "source": [
    "df = pd.read_csv(\"dataset.csv\", encoding='utf-8')\n",
    "df['text'] = df['subject'].fillna('') + \" \" + df['body'].fillna('')\n",
    "\n",
    "print(\"5 dòng đầu của dataset:\")\n",
    "print(df[['id', 'subject', 'body', 'label']].head())\n"
   ],
   "outputs": [],
   "execution_count": null
  },
  {
   "cell_type": "markdown",
   "id": "2f58d7aa37a0ea68",
   "metadata": {},
   "source": [
    "#3: Tiền xử lí"
   ]
  },
  {
   "cell_type": "code",
   "id": "7e82d000c99e186b",
   "metadata": {},
   "source": [
    "def preprocess(text):\n",
    "    lines = text.splitlines()\n",
    "    lines = [line.strip() for line in lines if line.strip()]\n",
    "    return \". \".join(lines) + \".\" if lines else \"\"\n",
    "\n",
    "\n",
    "import string\n",
    "\n",
    "def viet_tokenize(text):\n",
    "    tokens = word_tokenize(text, format='text').split()\n",
    "    tokens = [t for t in tokens if any(c.isalnum() for c in t)]\n",
    "    return tokens\n"
   ],
   "outputs": [],
   "execution_count": null
  },
  {
   "cell_type": "markdown",
   "id": "cf61819080fb7214",
   "metadata": {},
   "source": [
    "#4: Train dữ liệu"
   ]
  },
  {
   "cell_type": "code",
   "id": "6f3ef5c92442028c",
   "metadata": {},
   "source": [
    "X_train, X_test, y_train, y_test = train_test_split(\n",
    "    df['text'], df['label'], test_size=0.2, random_state=42\n",
    ")\n"
   ],
   "outputs": [],
   "execution_count": null
  },
  {
   "cell_type": "markdown",
   "id": "43c174d7e355a51c",
   "metadata": {},
   "source": [
    "#5: Loại bỏ stopwords và vector hóa"
   ]
  },
  {
   "cell_type": "code",
   "id": "72ba3d0b60d292ff",
   "metadata": {},
   "source": [
    "with open(\"vietnamese-stopwords-dash.txt\", \"r\", encoding=\"utf-8\") as f:\n",
    "    viet_stopwords = [line.strip() for line in f if line.strip()]\n",
    "\n",
    "vectorizer = TfidfVectorizer(tokenizer=viet_tokenize, stop_words=viet_stopwords)\n",
    "X_train_vec = vectorizer.fit_transform(X_train)\n",
    "X_test_vec = vectorizer.transform(X_test)\n"
   ],
   "outputs": [],
   "execution_count": null
  },
  {
   "cell_type": "markdown",
   "id": "c97b4b15d4f560cf",
   "metadata": {},
   "source": [
    "#6: Kết quả Train dataset"
   ]
  },
  {
   "cell_type": "code",
   "id": "76a9b872dc88574",
   "metadata": {},
   "source": [
    "model = MultinomialNB(alpha=0.5)\n",
    "model.fit(X_train_vec, y_train)\n",
    "\n",
    "y_pred = model.predict(X_test_vec)\n",
    "print(classification_report(y_test, y_pred))\n"
   ],
   "outputs": [],
   "execution_count": null
  },
  {
   "cell_type": "code",
   "id": "acb6ec12781e6b93",
   "metadata": {},
   "source": [
    "#7: Bayes/Top từ xuất hiện"
   ],
   "outputs": [],
   "execution_count": null
  },
  {
   "cell_type": "code",
   "id": "7de572a54926e4c0",
   "metadata": {},
   "source": [
    "from collections import defaultdict\n",
    "\n",
    "\n",
    "# Hàm đếm số lần xuất hiện\n",
    "def count_words(texts, labels, target_label):\n",
    "    counter = defaultdict(int)\n",
    "    for text, label in zip(texts, labels):\n",
    "        if label == target_label:\n",
    "            for w in viet_tokenize(text):\n",
    "                if w not in viet_stopwords:\n",
    "                    counter[w] += 1\n",
    "    return counter\n",
    "\n",
    "\n",
    "ham_words = count_words(X_train, y_train, 'ham')\n",
    "spam_words = count_words(X_train, y_train, 'spam')\n",
    "\n",
    "# Top 10 từ\n",
    "top_k = 20\n",
    "ham_top = sorted(ham_words.items(), key=lambda x: x[1], reverse=True)[:top_k]\n",
    "spam_top = sorted(spam_words.items(), key=lambda x: x[1], reverse=True)[:top_k]\n",
    "\n",
    "# Vẽ bar chart HAM\n",
    "plt.figure(figsize=(10, 5))\n",
    "plt.bar([w for w, _ in ham_top], [c for _, c in ham_top], color='green')\n",
    "plt.xticks(rotation=45)\n",
    "plt.title(\"Top 20 từ xuất hiện nhiều nhất lớp HAM\")\n",
    "plt.ylabel(\"Số lần xuất hiện\")\n",
    "plt.show()\n",
    "\n",
    "# Vẽ bar chart SPAM\n",
    "plt.figure(figsize=(10, 5))\n",
    "plt.bar([w for w, _ in spam_top], [c for _, c in spam_top], color='red')\n",
    "plt.xticks(rotation=45)\n",
    "plt.title(\"Top 20 từ xuất hiện nhiều nhất lớp SPAM\")\n",
    "plt.ylabel(\"Số lần xuất hiện\")\n",
    "plt.show()\n"
   ],
   "outputs": [],
   "execution_count": null
  },
  {
   "cell_type": "markdown",
   "id": "9dc25ce27b663307",
   "metadata": {},
   "source": [
    "#8: Input"
   ]
  },
  {
   "cell_type": "code",
   "id": "6e1306e29c7cb8ed",
   "metadata": {},
   "source": [
    "subj_input = input(\"\\nNhập Subject (tiêu đề): \")\n",
    "body_input = input(\"Nhập Body (nội dung): \")\n",
    "email_text = subj_input + \" \" + body_input\n",
    "\n",
    "X_new = vectorizer.transform([email_text])\n",
    "pred_label = model.predict(X_new)[0]\n",
    "pred_prob = np.max(model.predict_proba(X_new))\n",
    "\n",
    "print(\"\\n--- KẾT QUẢ DỰ ĐOÁN ---\")\n",
    "print(f\"Subject:\\n{subj_input}\")\n",
    "print(f\"Body:\\n{body_input}\\n\")\n",
    "print(f\"Dự đoán: {pred_label}\")\n",
    "print(f\"Tỉ lệ (%): {pred_prob * 100:.2f}%\")\n",
    "\n",
    "time_now = datetime.datetime.now().strftime(\"%Y-%m-%d %H:%M:%S\")\n",
    "new_row = pd.DataFrame([{\n",
    "    \"subject\": subj_input,\n",
    "    \"body\": body_input,\n",
    "    \"pred\": pred_label,\n",
    "    \"probability (%)\": pred_prob * 100,\n",
    "    \"time\": time_now\n",
    "}])\n",
    "\n",
    "csv_file = \"filter_history.csv\"\n",
    "if os.path.exists(csv_file):\n",
    "    new_row.to_csv(csv_file, mode='a', index=False, header=False, encoding='utf-8')\n",
    "else:\n",
    "    new_row.to_csv(csv_file, index=False, encoding='utf-8')\n",
    "\n",
    "print(f\"\\nĐã lưu dự đoán vào {csv_file}\")\n",
    "print(\"----------\")\n",
    "print(\"Lưu ý: Kết quả chỉ mang tính tham khảo. Vui lòng không nhập thông tin nhạy cảm, đường link, hay điền vào form trong email.\")\n",
    "\n"
   ],
   "outputs": [],
   "execution_count": null
  }
 ],
 "metadata": {
  "kernelspec": {
   "display_name": "Python 3 (ipykernel)",
   "language": "python",
   "name": "python3"
  },
  "language_info": {
   "codemirror_mode": {
    "name": "ipython",
    "version": 3
   },
   "file_extension": ".py",
   "mimetype": "text/x-python",
   "name": "python",
   "nbconvert_exporter": "python",
   "pygments_lexer": "ipython3",
   "version": "3.10.11"
  }
 },
 "nbformat": 4,
 "nbformat_minor": 5
}
