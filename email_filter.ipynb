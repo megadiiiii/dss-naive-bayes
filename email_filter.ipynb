{
 "cells": [
  {
   "cell_type": "code",
   "id": "initial_id",
   "metadata": {
    "collapsed": true,
    "ExecuteTime": {
     "end_time": "2025-10-02T10:01:38.232360Z",
     "start_time": "2025-10-02T10:01:34.717934Z"
    }
   },
   "source": [
    "# Cell: Cài đặt các thư viện cần thiết\n",
    "\n",
    "!pip install --upgrade pip"
   ],
   "outputs": [
    {
     "name": "stdout",
     "output_type": "stream",
     "text": [
      "Requirement already satisfied: pip in c:\\users\\phama\\pycharmprojects\\pythonproject\\.venv\\lib\\site-packages (25.1.1)\n",
      "Collecting pip\n",
      "  Using cached pip-25.2-py3-none-any.whl.metadata (4.7 kB)\n",
      "Using cached pip-25.2-py3-none-any.whl (1.8 MB)\n"
     ]
    },
    {
     "name": "stderr",
     "output_type": "stream",
     "text": [
      "\n",
      "[notice] A new release of pip is available: 25.1.1 -> 25.2\n",
      "[notice] To update, run: python.exe -m pip install --upgrade pip\n",
      "ERROR: To modify pip, please run the following command:\n",
      "C:\\Users\\phama\\PycharmProjects\\PythonProject\\.venv\\Scripts\\python.exe -m pip install --upgrade pip\n"
     ]
    }
   ],
   "execution_count": 1
  },
  {
   "metadata": {
    "ExecuteTime": {
     "end_time": "2025-10-02T10:01:44.820820Z",
     "start_time": "2025-10-02T10:01:40.818983Z"
    }
   },
   "cell_type": "code",
   "source": "!pip install pandas numpy matplotlib scikit-learn underthesea",
   "id": "63671698e8d03310",
   "outputs": [
    {
     "name": "stdout",
     "output_type": "stream",
     "text": [
      "Requirement already satisfied: pandas in c:\\users\\phama\\pycharmprojects\\pythonproject\\.venv\\lib\\site-packages (2.3.3)\n",
      "Requirement already satisfied: numpy in c:\\users\\phama\\pycharmprojects\\pythonproject\\.venv\\lib\\site-packages (2.2.6)\n",
      "Requirement already satisfied: matplotlib in c:\\users\\phama\\pycharmprojects\\pythonproject\\.venv\\lib\\site-packages (3.10.6)\n",
      "Requirement already satisfied: scikit-learn in c:\\users\\phama\\pycharmprojects\\pythonproject\\.venv\\lib\\site-packages (1.7.2)\n",
      "Requirement already satisfied: underthesea in c:\\users\\phama\\pycharmprojects\\pythonproject\\.venv\\lib\\site-packages (8.2.0)\n",
      "Requirement already satisfied: python-dateutil>=2.8.2 in c:\\users\\phama\\pycharmprojects\\pythonproject\\.venv\\lib\\site-packages (from pandas) (2.9.0.post0)\n",
      "Requirement already satisfied: pytz>=2020.1 in c:\\users\\phama\\pycharmprojects\\pythonproject\\.venv\\lib\\site-packages (from pandas) (2025.2)\n",
      "Requirement already satisfied: tzdata>=2022.7 in c:\\users\\phama\\pycharmprojects\\pythonproject\\.venv\\lib\\site-packages (from pandas) (2025.2)\n",
      "Requirement already satisfied: contourpy>=1.0.1 in c:\\users\\phama\\pycharmprojects\\pythonproject\\.venv\\lib\\site-packages (from matplotlib) (1.3.2)\n",
      "Requirement already satisfied: cycler>=0.10 in c:\\users\\phama\\pycharmprojects\\pythonproject\\.venv\\lib\\site-packages (from matplotlib) (0.12.1)\n",
      "Requirement already satisfied: fonttools>=4.22.0 in c:\\users\\phama\\pycharmprojects\\pythonproject\\.venv\\lib\\site-packages (from matplotlib) (4.60.1)\n",
      "Requirement already satisfied: kiwisolver>=1.3.1 in c:\\users\\phama\\pycharmprojects\\pythonproject\\.venv\\lib\\site-packages (from matplotlib) (1.4.9)\n",
      "Requirement already satisfied: packaging>=20.0 in c:\\users\\phama\\pycharmprojects\\pythonproject\\.venv\\lib\\site-packages (from matplotlib) (25.0)\n",
      "Requirement already satisfied: pillow>=8 in c:\\users\\phama\\pycharmprojects\\pythonproject\\.venv\\lib\\site-packages (from matplotlib) (11.3.0)\n",
      "Requirement already satisfied: pyparsing>=2.3.1 in c:\\users\\phama\\pycharmprojects\\pythonproject\\.venv\\lib\\site-packages (from matplotlib) (3.2.5)\n",
      "Requirement already satisfied: scipy>=1.8.0 in c:\\users\\phama\\pycharmprojects\\pythonproject\\.venv\\lib\\site-packages (from scikit-learn) (1.15.3)\n",
      "Requirement already satisfied: joblib>=1.2.0 in c:\\users\\phama\\pycharmprojects\\pythonproject\\.venv\\lib\\site-packages (from scikit-learn) (1.5.2)\n",
      "Requirement already satisfied: threadpoolctl>=3.1.0 in c:\\users\\phama\\pycharmprojects\\pythonproject\\.venv\\lib\\site-packages (from scikit-learn) (3.6.0)\n",
      "Requirement already satisfied: flake8>=7.3.0 in c:\\users\\phama\\pycharmprojects\\pythonproject\\.venv\\lib\\site-packages (from underthesea) (7.3.0)\n",
      "Requirement already satisfied: Click>=6.0 in c:\\users\\phama\\pycharmprojects\\pythonproject\\.venv\\lib\\site-packages (from underthesea) (8.3.0)\n",
      "Requirement already satisfied: python-crfsuite>=0.9.6 in c:\\users\\phama\\pycharmprojects\\pythonproject\\.venv\\lib\\site-packages (from underthesea) (0.9.11)\n",
      "Requirement already satisfied: nltk>=3.8 in c:\\users\\phama\\pycharmprojects\\pythonproject\\.venv\\lib\\site-packages (from underthesea) (3.9.1)\n",
      "Requirement already satisfied: tqdm in c:\\users\\phama\\pycharmprojects\\pythonproject\\.venv\\lib\\site-packages (from underthesea) (4.67.1)\n",
      "Requirement already satisfied: requests in c:\\users\\phama\\pycharmprojects\\pythonproject\\.venv\\lib\\site-packages (from underthesea) (2.32.5)\n",
      "Requirement already satisfied: PyYAML in c:\\users\\phama\\pycharmprojects\\pythonproject\\.venv\\lib\\site-packages (from underthesea) (6.0.3)\n",
      "Requirement already satisfied: underthesea_core==1.0.5 in c:\\users\\phama\\pycharmprojects\\pythonproject\\.venv\\lib\\site-packages (from underthesea) (1.0.5)\n",
      "Requirement already satisfied: colorama in c:\\users\\phama\\pycharmprojects\\pythonproject\\.venv\\lib\\site-packages (from Click>=6.0->underthesea) (0.4.6)\n",
      "Requirement already satisfied: mccabe<0.8.0,>=0.7.0 in c:\\users\\phama\\pycharmprojects\\pythonproject\\.venv\\lib\\site-packages (from flake8>=7.3.0->underthesea) (0.7.0)\n",
      "Requirement already satisfied: pycodestyle<2.15.0,>=2.14.0 in c:\\users\\phama\\pycharmprojects\\pythonproject\\.venv\\lib\\site-packages (from flake8>=7.3.0->underthesea) (2.14.0)\n",
      "Requirement already satisfied: pyflakes<3.5.0,>=3.4.0 in c:\\users\\phama\\pycharmprojects\\pythonproject\\.venv\\lib\\site-packages (from flake8>=7.3.0->underthesea) (3.4.0)\n",
      "Requirement already satisfied: regex>=2021.8.3 in c:\\users\\phama\\pycharmprojects\\pythonproject\\.venv\\lib\\site-packages (from nltk>=3.8->underthesea) (2025.9.18)\n",
      "Requirement already satisfied: six>=1.5 in c:\\users\\phama\\pycharmprojects\\pythonproject\\.venv\\lib\\site-packages (from python-dateutil>=2.8.2->pandas) (1.17.0)\n",
      "Requirement already satisfied: charset_normalizer<4,>=2 in c:\\users\\phama\\pycharmprojects\\pythonproject\\.venv\\lib\\site-packages (from requests->underthesea) (3.4.3)\n",
      "Requirement already satisfied: idna<4,>=2.5 in c:\\users\\phama\\pycharmprojects\\pythonproject\\.venv\\lib\\site-packages (from requests->underthesea) (3.10)\n",
      "Requirement already satisfied: urllib3<3,>=1.21.1 in c:\\users\\phama\\pycharmprojects\\pythonproject\\.venv\\lib\\site-packages (from requests->underthesea) (2.5.0)\n",
      "Requirement already satisfied: certifi>=2017.4.17 in c:\\users\\phama\\pycharmprojects\\pythonproject\\.venv\\lib\\site-packages (from requests->underthesea) (2025.8.3)\n"
     ]
    },
    {
     "name": "stderr",
     "output_type": "stream",
     "text": [
      "\n",
      "[notice] A new release of pip is available: 25.1.1 -> 25.2\n",
      "[notice] To update, run: python.exe -m pip install --upgrade pip\n"
     ]
    }
   ],
   "execution_count": 2
  }
 ],
 "metadata": {
  "kernelspec": {
   "display_name": "Python 3",
   "language": "python",
   "name": "python3"
  },
  "language_info": {
   "codemirror_mode": {
    "name": "ipython",
    "version": 2
   },
   "file_extension": ".py",
   "mimetype": "text/x-python",
   "name": "python",
   "nbconvert_exporter": "python",
   "pygments_lexer": "ipython2",
   "version": "2.7.6"
  }
 },
 "nbformat": 4,
 "nbformat_minor": 5
}
